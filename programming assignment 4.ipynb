{
 "cells": [
  {
   "cell_type": "markdown",
   "id": "8adbd9c7",
   "metadata": {},
   "source": [
    "# programming assignment 4"
   ]
  },
  {
   "cell_type": "raw",
   "id": "f9ced96c",
   "metadata": {},
   "source": [
    "1)Write a Python Program to Find the Factorial of a Number?"
   ]
  },
  {
   "cell_type": "code",
   "execution_count": 10,
   "id": "cef12201",
   "metadata": {},
   "outputs": [
    {
     "name": "stdout",
     "output_type": "stream",
     "text": [
      "enter the number you want to find factorial4\n",
      "24\n"
     ]
    }
   ],
   "source": [
    "n=int(input('enter the number you want to find factorial'))\n",
    "if n==0 or n==1:\n",
    "    print(\"The factorial of\",n ,\"is \",1)\n",
    "\n",
    "else:\n",
    "    fact=1\n",
    "    for i in range(1,n+1):\n",
    "        fact=fact*i\n",
    "print(fact)"
   ]
  },
  {
   "cell_type": "raw",
   "id": "4638c761",
   "metadata": {},
   "source": [
    "2)Write a Python Program to Display the multiplication Table?"
   ]
  },
  {
   "cell_type": "code",
   "execution_count": 12,
   "id": "09f39f37",
   "metadata": {},
   "outputs": [
    {
     "name": "stdout",
     "output_type": "stream",
     "text": [
      "enter the number you want to find the table of5\n",
      "5 * 1 = 5\n",
      "5 * 2 = 10\n",
      "5 * 3 = 15\n",
      "5 * 4 = 20\n",
      "5 * 5 = 25\n",
      "5 * 6 = 30\n",
      "5 * 7 = 35\n",
      "5 * 8 = 40\n",
      "5 * 9 = 45\n",
      "5 * 10 = 50\n"
     ]
    }
   ],
   "source": [
    "n=int(input(\"enter the number you want to find the table of\"))\n",
    "for i in range(1,11):\n",
    "    print(n,\"*\",i,\"=\",n*i)"
   ]
  },
  {
   "cell_type": "raw",
   "id": "231995dd",
   "metadata": {},
   "source": [
    "3)Write a Python Program to Print the Fibonacci sequence?"
   ]
  },
  {
   "cell_type": "code",
   "execution_count": 14,
   "id": "43342a18",
   "metadata": {},
   "outputs": [
    {
     "name": "stdout",
     "output_type": "stream",
     "text": [
      "How many terms? 7\n",
      "Fibonacci sequence:\n",
      "0\n",
      "1\n",
      "1\n",
      "2\n",
      "3\n",
      "5\n",
      "8\n"
     ]
    }
   ],
   "source": [
    "nterms = int(input(\"How many terms? \"))\n",
    "n1, n2 = 0, 1\n",
    "count = 0\n",
    "if nterms <= 0:\n",
    "   print(\"Please enter a positive integer\")\n",
    "elif nterms == 1:\n",
    "   print(\"Fibonacci sequence upto\",nterms,\":\")\n",
    "   print(n1)\n",
    "else:\n",
    "   print(\"Fibonacci sequence:\")\n",
    "   while count < nterms:\n",
    "       print(n1)\n",
    "       nth = n1 + n2\n",
    "       n1 = n2\n",
    "       n2 = nth\n",
    "       count += 1"
   ]
  },
  {
   "cell_type": "raw",
   "id": "7bbd1d7a",
   "metadata": {},
   "source": [
    "4)Write a Python Program to Check Armstrong Number?"
   ]
  },
  {
   "cell_type": "code",
   "execution_count": 17,
   "id": "90dffc55",
   "metadata": {},
   "outputs": [
    {
     "name": "stdout",
     "output_type": "stream",
     "text": [
      "enter the number1634\n",
      "The given number is amstrong number\n"
     ]
    }
   ],
   "source": [
    "n=int(input(\"enter the number\"))\n",
    "l=len(str(n))\n",
    "temp=n\n",
    "sum=0\n",
    "rem=0\n",
    "while temp>0:\n",
    "    rem=temp%10\n",
    "    sum+=rem**l\n",
    "    temp=temp//10\n",
    "if sum==n:\n",
    "    print(\"The given number is amstrong number\")\n",
    "else:\n",
    "    print(\"The given number is not amstrong number\")\n",
    "    "
   ]
  },
  {
   "cell_type": "code",
   "execution_count": null,
   "id": "8fd06d20",
   "metadata": {},
   "outputs": [],
   "source": [
    "5)Write a Python Program to Find Armstrong Number in an Interval?"
   ]
  },
  {
   "cell_type": "code",
   "execution_count": 21,
   "id": "abc2e10d",
   "metadata": {
    "scrolled": true
   },
   "outputs": [
    {
     "name": "stdout",
     "output_type": "stream",
     "text": [
      "enter the upper limit1700\n",
      "enter the lower limit1\n",
      "1\n",
      "2\n",
      "3\n",
      "4\n",
      "5\n",
      "6\n",
      "7\n",
      "8\n",
      "9\n",
      "153\n",
      "370\n",
      "371\n",
      "407\n",
      "1634\n"
     ]
    }
   ],
   "source": [
    "up=int(input(\"enter the upper limit\"))\n",
    "lo=int(input(\"enter the lower limit\"))\n",
    "for i in range(lo,up):\n",
    "    l=len(str(i))\n",
    "    temp=i\n",
    "    sum=0\n",
    "    rem=0\n",
    "    while temp>0:\n",
    "        rem=temp%10\n",
    "        sum+=rem**l\n",
    "        temp=temp//10\n",
    "    if sum==i:\n",
    "        print(i)\n",
    "    "
   ]
  },
  {
   "cell_type": "raw",
   "id": "5e72520b",
   "metadata": {},
   "source": [
    "6)Write a Python Program to Find the Sum of Natural Numbers?"
   ]
  },
  {
   "cell_type": "code",
   "execution_count": 22,
   "id": "7f791297",
   "metadata": {},
   "outputs": [
    {
     "name": "stdout",
     "output_type": "stream",
     "text": [
      "enter the last value10\n",
      "55\n"
     ]
    }
   ],
   "source": [
    "n=int(input(\"enter the last value\"))\n",
    "sum=0\n",
    "for i in range(0,n+1):\n",
    "    sum=sum+i\n",
    "print(sum)"
   ]
  },
  {
   "cell_type": "code",
   "execution_count": null,
   "id": "8e7fd6b1",
   "metadata": {},
   "outputs": [],
   "source": []
  }
 ],
 "metadata": {
  "kernelspec": {
   "display_name": "Python 3 (ipykernel)",
   "language": "python",
   "name": "python3"
  },
  "language_info": {
   "codemirror_mode": {
    "name": "ipython",
    "version": 3
   },
   "file_extension": ".py",
   "mimetype": "text/x-python",
   "name": "python",
   "nbconvert_exporter": "python",
   "pygments_lexer": "ipython3",
   "version": "3.9.12"
  }
 },
 "nbformat": 4,
 "nbformat_minor": 5
}
